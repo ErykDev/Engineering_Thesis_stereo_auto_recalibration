{
 "cells": [
  {
   "attachments": {},
   "cell_type": "markdown",
   "metadata": {},
   "source": [
    "Imports"
   ]
  },
  {
   "cell_type": "code",
   "execution_count": 32,
   "metadata": {
    "pycharm": {
     "name": "#%%\n"
    }
   },
   "outputs": [],
   "source": [
    "import numpy as np\n",
    "import cv2\n",
    "import os\n",
    "import glob\n",
    "\n",
    "import matplotlib.pyplot as plt\n",
    "\n",
    "from cv2 import aruco\n",
    "\n",
    "from calibration_utils import *"
   ]
  },
  {
   "attachments": {},
   "cell_type": "markdown",
   "metadata": {},
   "source": [
    "Setting Source directory for camera calibration"
   ]
  },
  {
   "cell_type": "code",
   "execution_count": 33,
   "metadata": {
    "pycharm": {
     "name": "#%%\n"
    }
   },
   "outputs": [],
   "source": [
    "root = '/home/eryk-dev/Downloads/'\n",
    "\n",
    "data_path = root + '/master/'\n",
    "\n",
    "img_ext = \"*.jpg\"\n",
    "\n",
    "img_shape = (3072, 4096)"
   ]
  },
  {
   "attachments": {},
   "cell_type": "markdown",
   "metadata": {},
   "source": [
    "Setting calibration values"
   ]
  },
  {
   "cell_type": "code",
   "execution_count": 34,
   "metadata": {},
   "outputs": [],
   "source": [
    "board_shape = [8, 11]\n",
    "\n",
    "\n",
    "# termination criteria\n",
    "criteria = (cv2.TERM_CRITERIA_EPS + cv2.TERM_CRITERIA_MAX_ITER, 30, 0.001)\n"
   ]
  },
  {
   "attachments": {},
   "cell_type": "markdown",
   "metadata": {},
   "source": [
    "Preparing object points"
   ]
  },
  {
   "cell_type": "code",
   "execution_count": 35,
   "metadata": {
    "pycharm": {
     "name": "#%%\n"
    }
   },
   "outputs": [],
   "source": [
    "dictionary = aruco.getPredefinedDictionary(cv2.aruco.DICT_6X6_250)\n",
    "parameters =  aruco.DetectorParameters()\n",
    "arucoDetector = aruco.ArucoDetector(dictionary, parameters)\n",
    "\n",
    "\n",
    "board = aruco.CharucoBoard(board_shape, 0.044, 0.034, dictionary)"
   ]
  },
  {
   "attachments": {},
   "cell_type": "markdown",
   "metadata": {},
   "source": [
    "Flag to display images while collecting data."
   ]
  },
  {
   "cell_type": "code",
   "execution_count": 36,
   "metadata": {},
   "outputs": [],
   "source": [
    "display_images = False"
   ]
  },
  {
   "attachments": {},
   "cell_type": "markdown",
   "metadata": {},
   "source": [
    "Processing Images"
   ]
  },
  {
   "cell_type": "code",
   "execution_count": null,
   "metadata": {},
   "outputs": [],
   "source": [
    "\n",
    "images = glob.glob(data_path + img_ext)\n",
    "images.sort()\n",
    "\n",
    "print(len(images))\n",
    "\n",
    "criteria = (cv2.TERM_CRITERIA_EPS + cv2.TERM_CRITERIA_MAX_ITER, 100, 0.00001)\n",
    "\n",
    "corner_ids = cornerIds(board_shape)\n",
    "\n",
    "allCorners = []\n",
    "allIds = []\n",
    "decimator = 0\n",
    "\n",
    "#objPoints, imgPoints = [], []\n",
    "\n",
    "\n",
    "for i, fname in enumerate(images):\n",
    "    print(\"[\" + str((i+1)) + \"/\" + str(len(images)) + \"]\")\n",
    "    head, tail = os.path.split(fname)\n",
    "\n",
    "    bgr = cv2.imread(images[i], cv2.IMREAD_UNCHANGED)\n",
    "\n",
    "    gray = cv2.cvtColor(bgr, cv2.COLOR_BGR2GRAY)\n",
    "\n",
    "    corners, ids, rejectedCorners = arucoDetector.detectMarkers(gray)\n",
    "\n",
    "    if len(corners) > 16:\n",
    "        for corner in corners:\n",
    "            cv2.cornerSubPix(gray, corner,\n",
    "                                winSize = (3,3),\n",
    "                                zeroZone = (-1,-1),\n",
    "                                criteria = criteria)\n",
    "                    \n",
    "        res2 = aruco.interpolateCornersCharuco(corners, ids, gray, board)\n",
    "            \n",
    "        if res2[1] is not None and res2[2] is not None and len(res2[1])>3 and decimator%1==0 and max(ids) <= max(board.getIds()):\n",
    "            if is_slice_in_list(numpy.squeeze(ids).tolist(), corner_ids): # all corners are detected\n",
    "                params, board_rot_deg  = get_parameters(corners, numpy.squeeze(ids).tolist(), corner_ids, img_shape, board_shape)\n",
    "                \n",
    "                allCorners.append(res2[1])\n",
    "                allIds.append(res2[2])\n",
    "\n",
    "                decimator+=1\n",
    "                    \n",
    "                print('Chessboard detected ' + tail)\n",
    "\n",
    "                if display_images :\n",
    "                    # Draw and display the corners\n",
    "                    rgb = cv2.cvtColor(bgr, cv2.COLOR_BGR2RGB)\n",
    "                    \n",
    "                    frame_copy = aruco.drawDetectedMarkers(rgb, corners, ids)\n",
    "                    \n",
    "                    plt.imshow(frame_copy)\n",
    "                    plt.show()\n",
    "\n",
    "                    if(tail == '1690359127.2271936.jpg'):\n",
    "                        frame_copy = cv2.cvtColor(frame_copy, cv2.COLOR_BGR2RGB)\n",
    "                        cv2.imwrite('img.png', frame_copy)\n",
    "\n",
    "        else:\n",
    "            print(\"chessboards missing\")\n",
    "\n",
    "    else:\n",
    "        print(\"chessboards missing\")\n",
    "\n",
    "print(\"\\nDetected \" + str(len(allCorners)) + \" points\")"
   ]
  },
  {
   "attachments": {},
   "cell_type": "markdown",
   "metadata": {},
   "source": [
    "Preparing for stereo calibration"
   ]
  },
  {
   "cell_type": "code",
   "execution_count": 38,
   "metadata": {},
   "outputs": [],
   "source": [
    "stereocalib_criteria = (cv2.TERM_CRITERIA_MAX_ITER + cv2.TERM_CRITERIA_EPS, 1000, 1e-5)"
   ]
  },
  {
   "cell_type": "code",
   "execution_count": 39,
   "metadata": {},
   "outputs": [
    {
     "name": "stdout",
     "output_type": "stream",
     "text": [
      "CAMERA CALIBRATION\n"
     ]
    }
   ],
   "source": [
    "print(\"CAMERA CALIBRATION\")\n",
    "\n",
    "cameraMatrixInit = np.array([[ 1000.,    0., img_shape[0] / 2.],\n",
    "                            [    0., 1000.,  img_shape[1] / 2.],\n",
    "                            [    0.,    0.,           1.]])\n",
    "\n",
    "distCoeffsInit = np.zeros((5,1))\n",
    "\n",
    "flags = 0#(cv2.CALIB_USE_INTRINSIC_GUESS + cv2.CALIB_RATIONAL_MODEL + cv2.CALIB_FIX_ASPECT_RATIO)\n",
    "#flags = (cv2.CALIB_RATIONAL_MODEL)"
   ]
  },
  {
   "attachments": {},
   "cell_type": "markdown",
   "metadata": {},
   "source": [
    "Stereo calibration"
   ]
  },
  {
   "cell_type": "code",
   "execution_count": 40,
   "metadata": {},
   "outputs": [
    {
     "name": "stdout",
     "output_type": "stream",
     "text": [
      "Calculating ....\n",
      "Done\n"
     ]
    }
   ],
   "source": [
    "print(\"Calculating ....\")\n",
    "\n",
    "\n",
    "(ret, camera_matrix, distortion_coefficients,\n",
    "     rotation_vectors, translation_vectors,\n",
    "     stdDeviationsIntrinsics, stdDeviationsExtrinsics,\n",
    "     perViewErrors) = cv2.aruco.calibrateCameraCharucoExtended(\n",
    "                      charucoCorners=allCorners,\n",
    "                      charucoIds=allIds,\n",
    "                      board=board,\n",
    "                      imageSize=img_shape,\n",
    "                      cameraMatrix=cameraMatrixInit,\n",
    "                      distCoeffs=distCoeffsInit,\n",
    "                      flags=flags,\n",
    "                      criteria=(cv2.TERM_CRITERIA_EPS & cv2.TERM_CRITERIA_COUNT, 10000, 1e-10))\n",
    "\n",
    "print(\"Done\")"
   ]
  },
  {
   "attachments": {},
   "cell_type": "markdown",
   "metadata": {},
   "source": [
    "Display Error"
   ]
  },
  {
   "cell_type": "code",
   "execution_count": 41,
   "metadata": {},
   "outputs": [
    {
     "name": "stdout",
     "output_type": "stream",
     "text": [
      "error: 1.4977826829631329\n"
     ]
    }
   ],
   "source": [
    "print(\"error: {}\".format(ret))"
   ]
  },
  {
   "attachments": {},
   "cell_type": "markdown",
   "metadata": {},
   "source": [
    "Printing results"
   ]
  },
  {
   "cell_type": "code",
   "execution_count": 42,
   "metadata": {},
   "outputs": [
    {
     "name": "stdout",
     "output_type": "stream",
     "text": [
      "Intrinsic_mtx [[1.98825698e+03 0.00000000e+00 1.58478242e+03]\n",
      " [0.00000000e+00 2.00283028e+03 2.05003471e+03]\n",
      " [0.00000000e+00 0.00000000e+00 1.00000000e+00]]\n",
      "dist [[ 0.07146394]\n",
      " [-0.02555844]\n",
      " [-0.00151345]\n",
      " [ 0.00151731]\n",
      " [-0.0130729 ]]\n"
     ]
    }
   ],
   "source": [
    "print('Intrinsic_mtx', camera_matrix)\n",
    "print('dist', distortion_coefficients)"
   ]
  },
  {
   "attachments": {},
   "cell_type": "markdown",
   "metadata": {},
   "source": [
    "Saving results"
   ]
  },
  {
   "cell_type": "code",
   "execution_count": 43,
   "metadata": {},
   "outputs": [],
   "source": [
    "np.savetxt('Intrinsic_mtx_1.txt', camera_matrix)\n",
    "np.savetxt('dist_1.txt', distortion_coefficients)\n",
    "#np.savetxt('rotation_vectors.txt', rotation_vectors)\n",
    "#np.savetxt('translation_vectors.txt', translation_vectors)"
   ]
  },
  {
   "cell_type": "code",
   "execution_count": 44,
   "metadata": {},
   "outputs": [],
   "source": [
    "imgpoints, objpoints = calculateImgPointsObjPoints(allIds, allCorners, board)"
   ]
  },
  {
   "cell_type": "code",
   "execution_count": 45,
   "metadata": {},
   "outputs": [
    {
     "name": "stdout",
     "output_type": "stream",
     "text": [
      "1690359123.7718804.jpg 1.2989946317734045\n",
      "1690359124.148325.jpg 0.9847858209558569\n",
      "1690359126.3590202.jpg 1.3020947058250771\n",
      "1690359127.2271936.jpg 2.3065492467835935\n",
      "1690359127.6013777.jpg 1.991337246212442\n",
      "1690359128.4469304.jpg 1.750098549948382\n",
      "1690359132.8351154.jpg 1.863189473287032\n",
      "1690359136.254239.jpg 0.7559575656420479\n",
      "1690359137.0911386.jpg 2.5870995082576003\n",
      "1690359137.4814637.jpg 1.7862311628758312\n",
      "1690359140.6098385.jpg 1.2086005212051818\n",
      "1690359141.7048762.jpg 0.9778880792504143\n",
      "1690359142.7671614.jpg 1.0061929396555074\n",
      "1690359143.8441384.jpg 1.020800116537068\n",
      "1690359145.1489396.jpg 1.1308339946937451\n",
      "1690359146.2468128.jpg 1.2794731815311875\n",
      "1690359146.6226234.jpg 1.2467016703267844\n",
      "1690359147.7036483.jpg 1.2723210233355684\n",
      "1690359148.3016598.jpg 2.08114467144243\n",
      "1690359149.3789983.jpg 2.5929048092632883\n",
      "1690359153.9743443.jpg 0.8727740027697038\n",
      "1690359155.0317051.jpg 1.3274661395389984\n",
      "1690359155.8810792.jpg 2.348552816585163\n",
      "1690359156.4902434.jpg 1.658408191922145\n",
      "1690359157.334561.jpg 0.7539934179043783\n",
      "1690359157.9365358.jpg 1.562355822136912\n",
      "1690359158.5463233.jpg 1.735875733463271\n",
      "1690359159.6211073.jpg 2.1346332308126446\n",
      "1690359160.4717178.jpg 1.3018067774853879\n",
      "1690359178.1782963.jpg 1.2812803137154438\n",
      "1690359181.3664012.jpg 0.6835433032455253\n",
      "1690359184.8605554.jpg 3.215241880810377\n",
      "1690359186.1893868.jpg 3.313687699336061\n",
      "1690359186.8184855.jpg 1.5553135463322114\n",
      "1690359187.4184482.jpg 1.2697347976430875\n",
      "1690359189.4322221.jpg 1.9033359272937658\n",
      "1690359190.2543073.jpg 2.1247244380299146\n",
      "1690359191.3318758.jpg 1.8597488656097887\n",
      "1690359203.5018291.jpg 1.820919460683644\n",
      "1690359204.1011212.jpg 0.8316122757047828\n",
      "1690359204.6972747.jpg 1.1852943976998225\n",
      "1690359205.3131566.jpg 1.3666174405978753\n",
      "1690359206.8285935.jpg 1.45782860197326\n",
      "1690359207.899836.jpg 3.068384152509193\n",
      "1690359208.2684517.jpg 1.8931357865948657\n",
      "1690359211.3679817.jpg 0.44216827986576157\n",
      "1690359213.1174247.jpg 0.6037381392220775\n",
      "1690359213.7289424.jpg 0.4999068028722822\n",
      "1690359216.6572437.jpg 1.4794842966669621\n",
      "1690359217.2691154.jpg 1.3040232329744041\n",
      "1690359218.337029.jpg 1.0394210783059892\n",
      "1690359219.661612.jpg 1.4498524398316344\n",
      "1690359223.7338653.jpg 0.7043839121081784\n",
      "1690359224.567298.jpg 0.881204455646813\n",
      "1690359225.3939703.jpg 1.2881528645408107\n",
      "1690359226.2254784.jpg 0.799736693538367\n",
      "1690359227.5233781.jpg 0.9476051489200664\n",
      "1690359238.0319993.jpg 0.6084242698385184\n",
      "1690359238.8759654.jpg 0.4895033113586532\n",
      "1690359240.1819732.jpg 0.6439353747405696\n",
      "1690359241.5174994.jpg 0.6409694620728296\n",
      "1690359242.8109152.jpg 0.6846987211454694\n",
      "1690359245.7018607.jpg 1.6597801260062695\n",
      "1690359256.8631449.jpg 0.5552535031092592\n",
      "1690359258.419247.jpg 0.6464641515481718\n",
      "1690359264.6050513.jpg 0.78257942448914\n",
      "1690359280.702071.jpg 1.3636489062548334\n",
      "1690359285.297815.jpg 1.104160044298261\n",
      "1690359301.9927225.jpg 1.4974960311089829\n",
      "1690359310.7220163.jpg 0.7457378193713242\n",
      "1690359313.1510267.jpg 0.7464724013923562\n",
      "1690359314.2069514.jpg 0.6551850404543894\n"
     ]
    }
   ],
   "source": [
    "#Reprojection error\n",
    "def computeReprojectionErrors(objectPoints, imagePoints, rvecs, tvecs, cameraMatrix, distCoeffs, perViewErrors):\n",
    "    imagePoints2 = []\n",
    "    totalPoints = 0\n",
    "    totalErr = 0\n",
    "\n",
    "    for i in range(len(objectPoints)):\n",
    "        imagePoints2, _ = cv2.projectPoints(objectPoints[i], rvecs[i], tvecs[i], cameraMatrix, distCoeffs)\n",
    "\n",
    "        err = np.linalg.norm(np.array(imagePoints[i]) - np.array(imagePoints2))\n",
    "        n = len(objectPoints[i])\n",
    "        perViewErrors.append(np.sqrt(err**2 / n))\n",
    "        totalErr += err**2\n",
    "        totalPoints += n\n",
    "\n",
    "    return np.sqrt(totalErr / totalPoints)\n",
    "\n",
    "perViewErrors = []\n",
    "\n",
    "\n",
    "err = computeReprojectionErrors(objpoints, imgpoints, rotation_vectors, translation_vectors, camera_matrix, distortion_coefficients, perViewErrors)\n",
    "\n",
    "\n",
    "for (frame, err) in zip(images, perViewErrors):\n",
    "    print(os.path.basename(frame) + ' ' + str(err))\n"
   ]
  }
 ],
 "metadata": {
  "kernelspec": {
   "display_name": "as",
   "language": "python",
   "name": "python3"
  },
  "language_info": {
   "codemirror_mode": {
    "name": "ipython",
    "version": 3
   },
   "file_extension": ".py",
   "mimetype": "text/x-python",
   "name": "python",
   "nbconvert_exporter": "python",
   "pygments_lexer": "ipython3",
   "version": "3.10.12"
  },
  "toc": {
   "base_numbering": 1,
   "nav_menu": {},
   "number_sections": true,
   "sideBar": true,
   "skip_h1_title": false,
   "title_cell": "Table of Contents",
   "title_sidebar": "Contents",
   "toc_cell": false,
   "toc_position": {},
   "toc_section_display": true,
   "toc_window_display": true
  },
  "vscode": {
   "interpreter": {
    "hash": "97bb11cd495b076e0059266e8ff63f9be428e9a3924743c6e525b550f9abe335"
   }
  }
 },
 "nbformat": 4,
 "nbformat_minor": 1
}
